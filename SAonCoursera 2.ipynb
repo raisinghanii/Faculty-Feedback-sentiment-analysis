{
 "cells": [
  {
   "cell_type": "code",
   "execution_count": 1,
   "metadata": {},
   "outputs": [
    {
     "name": "stdout",
     "output_type": "stream",
     "text": [
      "1 Physical GPUs, 1 Logical GPUs\n"
     ]
    }
   ],
   "source": [
    "import tensorflow as tf\n",
    "gpus = tf.config.experimental.list_physical_devices('GPU')\n",
    "if gpus:\n",
    "    try:\n",
    "        # Restrict TensorFlow to only use the fourth GPU\n",
    "        tf.config.experimental.set_visible_devices(gpus[0], 'GPU')\n",
    "\n",
    "        # Currently, memory growth needs to be the same across GPUs\n",
    "        for gpu in gpus:\n",
    "            tf.config.experimental.set_memory_growth(gpu, True)\n",
    "        logical_gpus = tf.config.experimental.list_logical_devices('GPU')\n",
    "        print(len(gpus), \"Physical GPUs,\", len(logical_gpus), \"Logical GPUs\")\n",
    "    except RuntimeError as e:\n",
    "        # Memory growth must be set before GPUs have been initialized\n",
    "        print(e)"
   ]
  },
  {
   "cell_type": "code",
   "execution_count": 3,
   "metadata": {},
   "outputs": [
    {
     "name": "stderr",
     "output_type": "stream",
     "text": [
      "[nltk_data] Downloading package stopwords to\n",
      "[nltk_data]     C:\\Users\\Yogesh\\AppData\\Roaming\\nltk_data...\n",
      "[nltk_data]   Package stopwords is already up-to-date!\n"
     ]
    }
   ],
   "source": [
    "import tensorflow as tf\n",
    "from keras.preprocessing.text import Tokenizer\n",
    "from keras.preprocessing.sequence import pad_sequences\n",
    "from keras.models import Sequential, load_model\n",
    "from keras.layers import Dense, Embedding, LSTM\n",
    "from sklearn.model_selection import train_test_split\n",
    "from keras.utils.np_utils import to_categorical\n",
    "import re\n",
    "import pickle\n",
    "import nltk\n",
    "nltk.download('stopwords')\n",
    "from nltk.corpus import stopwords\n",
    "from nltk.stem.porter import PorterStemmer\n",
    "\n",
    "revs = pickle.load(open('pre2','rb'))\n",
    "max_fatures = 70000\n",
    "tokenizer = Tokenizer(num_words=max_fatures, split=' ')\n",
    "tokenizer.fit_on_texts(revs)\n",
    "X1 = tokenizer.texts_to_sequences(revs)\n",
    "X1 = pad_sequences(X1)\n"
   ]
  },
  {
   "cell_type": "code",
   "execution_count": 4,
   "metadata": {},
   "outputs": [
    {
     "name": "stderr",
     "output_type": "stream",
     "text": [
      "C:\\Users\\Yogesh\\Anaconda3\\envs\\yrenv\\lib\\site-packages\\tensorflow_core\\python\\framework\\indexed_slices.py:433: UserWarning: Converting sparse IndexedSlices to a dense Tensor of unknown shape. This may consume a large amount of memory.\n",
      "  \"Converting sparse IndexedSlices to a dense Tensor of unknown shape. \"\n"
     ]
    },
    {
     "name": "stdout",
     "output_type": "stream",
     "text": [
      "Model: \"sequential_1\"\n",
      "_________________________________________________________________\n",
      "Layer (type)                 Output Shape              Param #   \n",
      "=================================================================\n",
      "embedding_1 (Embedding)      (None, 1360, 150)         10500000  \n",
      "_________________________________________________________________\n",
      "spatial_dropout1d_1 (Spatial (None, 1360, 150)         0         \n",
      "_________________________________________________________________\n",
      "lstm_1 (LSTM)                (None, 200)               280800    \n",
      "_________________________________________________________________\n",
      "dense_1 (Dense)              (None, 2)                 402       \n",
      "=================================================================\n",
      "Total params: 10,781,202\n",
      "Trainable params: 10,781,202\n",
      "Non-trainable params: 0\n",
      "_________________________________________________________________\n"
     ]
    }
   ],
   "source": [
    "model = load_model('model2.h5')\n",
    "model.summary()"
   ]
  },
  {
   "cell_type": "code",
   "execution_count": 5,
   "metadata": {},
   "outputs": [],
   "source": [
    "def analyze(str,model=model):\n",
    "    rev = re.sub('[^a-zA-Z]', ' ',str)\n",
    "    rev = rev.lower()\n",
    "    rev = rev.split()\n",
    "    ps = PorterStemmer()\n",
    "    rev = [ps.stem(word) for word in rev]\n",
    "    qq = tokenizer.texts_to_sequences(rev)\n",
    "    lst = [item for elem in qq for item in elem]\n",
    "    pp = []\n",
    "    pp.append(lst)\n",
    "    padded = pad_sequences(pp,maxlen=1360)\n",
    "    pred = model.predict(padded)\n",
    "    print(\"Negative :\",pred[0][0],\"\\tPositive :\",pred[0][1])"
   ]
  },
  {
   "cell_type": "code",
   "execution_count": 6,
   "metadata": {},
   "outputs": [
    {
     "name": "stdout",
     "output_type": "stream",
     "text": [
      "Negative : 0.9580685 \tPositive : 0.041931476\n"
     ]
    }
   ],
   "source": [
    "analyze(\"This teacher is worst\",model)"
   ]
  },
  {
   "cell_type": "code",
   "execution_count": 74,
   "metadata": {},
   "outputs": [
    {
     "name": "stdout",
     "output_type": "stream",
     "text": [
      "Negative : 0.012083446 \tPositive : 0.9879166\n"
     ]
    }
   ],
   "source": [
    "analyze(\"This teacher has very good teaching skills\",model)"
   ]
  },
  {
   "cell_type": "code",
   "execution_count": 77,
   "metadata": {},
   "outputs": [
    {
     "name": "stdout",
     "output_type": "stream",
     "text": [
      "Negative : 0.011755181 \tPositive : 0.9882448\n"
     ]
    }
   ],
   "source": [
    "analyze(\"This teacher has great presentation skills\")"
   ]
  },
  {
   "cell_type": "code",
   "execution_count": 78,
   "metadata": {},
   "outputs": [
    {
     "name": "stdout",
     "output_type": "stream",
     "text": [
      "Negative : 0.7152998 \tPositive : 0.28470024\n"
     ]
    }
   ],
   "source": [
    "analyze(\"This teacher did not complete syllabus in time\")"
   ]
  },
  {
   "cell_type": "code",
   "execution_count": 79,
   "metadata": {},
   "outputs": [
    {
     "name": "stdout",
     "output_type": "stream",
     "text": [
      "Negative : 0.084921494 \tPositive : 0.9150785\n"
     ]
    }
   ],
   "source": [
    "analyze(\"This teacher completed syllabus in time\")"
   ]
  },
  {
   "cell_type": "code",
   "execution_count": 80,
   "metadata": {},
   "outputs": [
    {
     "name": "stdout",
     "output_type": "stream",
     "text": [
      "Negative : 0.14615095 \tPositive : 0.853849\n"
     ]
    }
   ],
   "source": [
    "analyze(\"this teacher is very strict\",model)"
   ]
  },
  {
   "cell_type": "code",
   "execution_count": 81,
   "metadata": {},
   "outputs": [
    {
     "name": "stdout",
     "output_type": "stream",
     "text": [
      "Negative : 0.2994336 \tPositive : 0.7005665\n"
     ]
    }
   ],
   "source": [
    "analyze(\"The proffessor is well versed in his subject and is very experienced when it comes to the practical part but he is very bad at sharing that knowledge with us.\")"
   ]
  },
  {
   "cell_type": "code",
   "execution_count": 82,
   "metadata": {},
   "outputs": [
    {
     "name": "stdout",
     "output_type": "stream",
     "text": [
      "Negative : 0.84262145 \tPositive : 0.1573786\n"
     ]
    }
   ],
   "source": [
    "analyze(\"This course is easy to grasp and learn , the main problem is that it gets very boring after a certain point and becomes uninteresting\")"
   ]
  },
  {
   "cell_type": "code",
   "execution_count": 55,
   "metadata": {},
   "outputs": [
    {
     "name": "stdout",
     "output_type": "stream",
     "text": [
      "[[10, 18, 8, 75, 12, 448, 2, 218, 6, 761, 199]]\n"
     ]
    },
    {
     "data": {
      "text/plain": [
       "array([[0.7403249 , 0.25967515]], dtype=float32)"
      ]
     },
     "execution_count": 55,
     "metadata": {},
     "output_type": "execute_result"
    }
   ],
   "source": [
    "analyze(\" is that it gets very boring and  after a certain point\")"
   ]
  },
  {
   "cell_type": "code",
   "execution_count": 83,
   "metadata": {},
   "outputs": [
    {
     "name": "stdout",
     "output_type": "stream",
     "text": [
      "Negative : 0.0095181605 \tPositive : 0.9904819\n"
     ]
    }
   ],
   "source": [
    "analyze(\"The professor has great teaching skills\")"
   ]
  },
  {
   "cell_type": "code",
   "execution_count": 90,
   "metadata": {},
   "outputs": [
    {
     "name": "stdout",
     "output_type": "stream",
     "text": [
      "Negative : 0.25388896 \tPositive : 0.74611104\n"
     ]
    }
   ],
   "source": [
    "analyze(\"the teacher does not teach good but helps in personal matters\")"
   ]
  },
  {
   "cell_type": "code",
   "execution_count": 91,
   "metadata": {},
   "outputs": [
    {
     "name": "stdout",
     "output_type": "stream",
     "text": [
      "Negative : 0.8516091 \tPositive : 0.14839087\n"
     ]
    }
   ],
   "source": [
    "analyze(\"The proffesor lacks practical knowledge\")"
   ]
  },
  {
   "cell_type": "code",
   "execution_count": 92,
   "metadata": {},
   "outputs": [
    {
     "name": "stdout",
     "output_type": "stream",
     "text": [
      "Negative : 0.0030896745 \tPositive : 0.9969104\n"
     ]
    }
   ],
   "source": [
    "analyze(\"this is the best professor i have ever has in my entire life\")"
   ]
  }
 ],
 "metadata": {
  "kernelspec": {
   "display_name": "Python 3",
   "language": "python",
   "name": "python3"
  },
  "language_info": {
   "codemirror_mode": {
    "name": "ipython",
    "version": 3
   },
   "file_extension": ".py",
   "mimetype": "text/x-python",
   "name": "python",
   "nbconvert_exporter": "python",
   "pygments_lexer": "ipython3",
   "version": "3.7.7"
  }
 },
 "nbformat": 4,
 "nbformat_minor": 4
}
